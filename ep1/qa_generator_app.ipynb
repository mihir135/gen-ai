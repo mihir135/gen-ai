{
 "cells": [
  {
   "cell_type": "markdown",
   "id": "4b20e8e1",
   "metadata": {},
   "source": [
    "# Q/A Generator Application"
   ]
  },
  {
   "cell_type": "markdown",
   "id": "96595cb4",
   "metadata": {},
   "source": [
    "### Install the required libraries"
   ]
  },
  {
   "cell_type": "code",
   "execution_count": 23,
   "id": "05219c1c",
   "metadata": {},
   "outputs": [],
   "source": [
    "# !pip install openai # Uncomment this line, only use one time."
   ]
  },
  {
   "cell_type": "markdown",
   "id": "3a5ffc31",
   "metadata": {},
   "source": [
    "### Import modules"
   ]
  },
  {
   "cell_type": "code",
   "execution_count": 24,
   "id": "47335350",
   "metadata": {},
   "outputs": [],
   "source": [
    "import os\n",
    "from openai import OpenAI\n",
    "from IPython.display import display, Markdown"
   ]
  },
  {
   "cell_type": "markdown",
   "id": "085f1765",
   "metadata": {},
   "source": [
    "### Set the OpenAI API Key"
   ]
  },
  {
   "cell_type": "code",
   "execution_count": 25,
   "id": "929e070d",
   "metadata": {},
   "outputs": [],
   "source": [
    "client = OpenAI(\n",
    "    api_key=os.environ.get(\"OA_API_KEY\") # Add your API key in OA_API_KEY environment variable\n",
    ")"
   ]
  },
  {
   "cell_type": "markdown",
   "id": "496c6de9",
   "metadata": {},
   "source": [
    "### Setup the application"
   ]
  },
  {
   "cell_type": "code",
   "execution_count": 26,
   "id": "255f05f5",
   "metadata": {},
   "outputs": [],
   "source": [
    "system_context = \"You are a helpful question and answer generator bot. You will generate 2 easy, 2 medium, and 1 complex short answer questions for input topic.\"\n",
    "\n",
    "def get_completion(prompt):\n",
    "    completion = client.chat.completions.create(\n",
    "        model=\"gpt-4o-mini\",\n",
    "        messages=[\n",
    "            {\"role\": \"system\", \"content\": system_context},\n",
    "            {\"role\": \"user\", \"content\": prompt}\n",
    "        ]\n",
    "    )\n",
    "    return completion.choices[0].message.content"
   ]
  },
  {
   "cell_type": "markdown",
   "id": "36e16bab",
   "metadata": {},
   "source": [
    "### Setup Configurations and call the OpenAI API"
   ]
  },
  {
   "cell_type": "code",
   "execution_count": 27,
   "id": "fe5162db",
   "metadata": {},
   "outputs": [
    {
     "data": {
      "text/markdown": [
       "### Easy Questions\n",
       "\n",
       "1. **Question:** Who was Maharana Pratap?  \n",
       "   **Answer:** Maharana Pratap was a 16th-century Rajput king of Mewar, known for his resistance against Mughal imperial expansion and his valiant efforts to protect his kingdom.\n",
       "\n",
       "2. **Question:** What is the significance of the Battle of Haldighati?  \n",
       "   **Answer:** The Battle of Haldighati, fought in 1576 between Maharana Pratap and the Mughal forces led by Man Singh, is significant for showcasing Maharana Pratap's bravery and determination to defend his kingdom despite being outnumbered.\n",
       "\n",
       "### Medium Questions\n",
       "\n",
       "3. **Question:** What were the main strategies employed by Maharana Pratap in his fight against the Mughals?  \n",
       "   **Answer:** Maharana Pratap employed guerrilla warfare tactics, utilized the rugged terrain of the Aravalli mountains for strategic advantages, and relied on his loyal troops and allies to disrupt Mughal supply lines.\n",
       "\n",
       "4. **Question:** How did Maharana Pratap's approach to governance differ from that of other rulers of his time?  \n",
       "   **Answer:** Maharana Pratap believed in self-rule and the importance of maintaining sovereignty over his ancestral land, which led him to reject alliances with the Mughal Empire, unlike many other rulers who sought political gain through collaboration.\n",
       "\n",
       "### Complex Question\n",
       "\n",
       "5. **Question:** Analyze the impact of Maharana Pratap's legacy on Indian nationalism and the Rajput identity in contemporary times.  \n",
       "   **Answer:** Maharana Pratap's legacy has had a profound impact on Indian nationalism and the Rajput identity, symbolizing bravery, resilience, and the spirit of freedom against oppression. His life and struggles are celebrated as examples of pride in one’s heritage, inspiring movements for regional identity and bolstering a sense of unity among Rajput clans. Additionally, modern interpretations of his resistance against the Mughal Empire serve as rallying points for discussions on sovereignty and self-determination in the context of contemporary politics in India."
      ],
      "text/plain": [
       "<IPython.core.display.Markdown object>"
      ]
     },
     "metadata": {},
     "output_type": "display_data"
    }
   ],
   "source": [
    "# define subject\n",
    "subject = \"history\"\n",
    "\n",
    "# define topic\n",
    "topic = \"maharana pratap\"\n",
    "\n",
    "# prepare prompt\n",
    "prompt = f\"Please generate question and answers for {subject} subject and topic is {topic}\"\n",
    "\n",
    "# make API call and cleanup response\n",
    "response = get_completion(prompt)\n",
    "\n",
    "display(Markdown(response))"
   ]
  }
 ],
 "metadata": {
  "kernelspec": {
   "display_name": "labelimg",
   "language": "python",
   "name": "python3"
  },
  "language_info": {
   "codemirror_mode": {
    "name": "ipython",
    "version": 3
   },
   "file_extension": ".py",
   "mimetype": "text/x-python",
   "name": "python",
   "nbconvert_exporter": "python",
   "pygments_lexer": "ipython3",
   "version": "3.11.11"
  }
 },
 "nbformat": 4,
 "nbformat_minor": 5
}
